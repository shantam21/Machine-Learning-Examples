{
  "nbformat": 4,
  "nbformat_minor": 0,
  "metadata": {
    "colab": {
      "name": "K-means",
      "provenance": [],
      "authorship_tag": "ABX9TyP6nOZKwicxtAGCpSLNQRZm",
      "include_colab_link": true
    },
    "kernelspec": {
      "name": "python3",
      "display_name": "Python 3"
    }
  },
  "cells": [
    {
      "cell_type": "markdown",
      "metadata": {
        "id": "view-in-github",
        "colab_type": "text"
      },
      "source": [
        "<a href=\"https://colab.research.google.com/github/shantam21/Machine-Learning-Examples/blob/master/Clustering_Techniques/K_means_intro.ipynb\" target=\"_parent\"><img src=\"https://colab.research.google.com/assets/colab-badge.svg\" alt=\"Open In Colab\"/></a>"
      ]
    },
    {
      "cell_type": "code",
      "metadata": {
        "id": "MSjuTXa58CtI",
        "colab_type": "code",
        "colab": {}
      },
      "source": [
        "import pandas as pd\n",
        "import numpy as np\n",
        "import matplotlib.pyplot as plt\n",
        "from kneed import KneeLocator\n",
        "from sklearn.datasets import make_blobs\n",
        "from sklearn.cluster import KMeans\n",
        "from sklearn.metrics import silhouette_score\n",
        "from sklearn.preprocessing import StandardScaler"
      ],
      "execution_count": 8,
      "outputs": []
    },
    {
      "cell_type": "code",
      "metadata": {
        "id": "hQoL3nAi8Trd",
        "colab_type": "code",
        "colab": {
          "base_uri": "https://localhost:8080/",
          "height": 221
        },
        "outputId": "73794163-a274-4566-d2b3-648240cd3df2"
      },
      "source": [
        "data = pd.read_csv('iBeacon_RSSI_Labeled.csv')\n",
        "data.head()\n",
        "data.location.unique()"
      ],
      "execution_count": 24,
      "outputs": [
        {
          "output_type": "execute_result",
          "data": {
            "text/plain": [
              "array(['O02', 'P01', 'P02', 'R01', 'R02', 'S01', 'S02', 'T01', 'U02',\n",
              "       'U01', 'J03', 'K03', 'L03', 'M03', 'N03', 'O03', 'P03', 'Q03',\n",
              "       'R03', 'S03', 'T03', 'U03', 'U04', 'T04', 'S04', 'R04', 'Q04',\n",
              "       'P04', 'O04', 'N04', 'M04', 'L04', 'K04', 'J04', 'I04', 'I05',\n",
              "       'J05', 'K05', 'L05', 'M05', 'N05', 'O05', 'P05', 'Q05', 'R05',\n",
              "       'S05', 'T05', 'U05', 'S06', 'R06', 'Q06', 'P06', 'O06', 'N06',\n",
              "       'M06', 'L06', 'K06', 'J06', 'I06', 'F08', 'J02', 'J07', 'I07',\n",
              "       'I10', 'J10', 'D15', 'E15', 'G15', 'J15', 'L15', 'R15', 'T15',\n",
              "       'W15', 'I08', 'I03', 'J08', 'I01', 'I02', 'J01', 'K01', 'K02',\n",
              "       'L01', 'L02', 'M01', 'M02', 'N01', 'N02', 'O01', 'I09', 'D14',\n",
              "       'D13', 'K07', 'K08', 'N15', 'P15', 'I15', 'S15', 'U15', 'V15',\n",
              "       'S07', 'S08', 'L09', 'L08', 'Q02', 'Q01'], dtype=object)"
            ]
          },
          "metadata": {
            "tags": []
          },
          "execution_count": 24
        }
      ]
    },
    {
      "cell_type": "code",
      "metadata": {
        "id": "2_z41f6U-U1s",
        "colab_type": "code",
        "colab": {
          "base_uri": "https://localhost:8080/",
          "height": 204
        },
        "outputId": "0f270cbb-5db3-4738-c915-38bf9e4c1016"
      },
      "source": [
        "df = data.drop(['date'], axis = 1)\n",
        "df.head()"
      ],
      "execution_count": 5,
      "outputs": [
        {
          "output_type": "execute_result",
          "data": {
            "text/html": [
              "<div>\n",
              "<style scoped>\n",
              "    .dataframe tbody tr th:only-of-type {\n",
              "        vertical-align: middle;\n",
              "    }\n",
              "\n",
              "    .dataframe tbody tr th {\n",
              "        vertical-align: top;\n",
              "    }\n",
              "\n",
              "    .dataframe thead th {\n",
              "        text-align: right;\n",
              "    }\n",
              "</style>\n",
              "<table border=\"1\" class=\"dataframe\">\n",
              "  <thead>\n",
              "    <tr style=\"text-align: right;\">\n",
              "      <th></th>\n",
              "      <th>location</th>\n",
              "      <th>b3001</th>\n",
              "      <th>b3002</th>\n",
              "      <th>b3003</th>\n",
              "      <th>b3004</th>\n",
              "      <th>b3005</th>\n",
              "      <th>b3006</th>\n",
              "      <th>b3007</th>\n",
              "      <th>b3008</th>\n",
              "      <th>b3009</th>\n",
              "      <th>b3010</th>\n",
              "      <th>b3011</th>\n",
              "      <th>b3012</th>\n",
              "      <th>b3013</th>\n",
              "    </tr>\n",
              "  </thead>\n",
              "  <tbody>\n",
              "    <tr>\n",
              "      <th>0</th>\n",
              "      <td>O02</td>\n",
              "      <td>-200</td>\n",
              "      <td>-200</td>\n",
              "      <td>-200</td>\n",
              "      <td>-200</td>\n",
              "      <td>-200</td>\n",
              "      <td>-78</td>\n",
              "      <td>-200</td>\n",
              "      <td>-200</td>\n",
              "      <td>-200</td>\n",
              "      <td>-200</td>\n",
              "      <td>-200</td>\n",
              "      <td>-200</td>\n",
              "      <td>-200</td>\n",
              "    </tr>\n",
              "    <tr>\n",
              "      <th>1</th>\n",
              "      <td>P01</td>\n",
              "      <td>-200</td>\n",
              "      <td>-200</td>\n",
              "      <td>-200</td>\n",
              "      <td>-200</td>\n",
              "      <td>-200</td>\n",
              "      <td>-78</td>\n",
              "      <td>-200</td>\n",
              "      <td>-200</td>\n",
              "      <td>-200</td>\n",
              "      <td>-200</td>\n",
              "      <td>-200</td>\n",
              "      <td>-200</td>\n",
              "      <td>-200</td>\n",
              "    </tr>\n",
              "    <tr>\n",
              "      <th>2</th>\n",
              "      <td>P01</td>\n",
              "      <td>-200</td>\n",
              "      <td>-200</td>\n",
              "      <td>-200</td>\n",
              "      <td>-200</td>\n",
              "      <td>-200</td>\n",
              "      <td>-77</td>\n",
              "      <td>-200</td>\n",
              "      <td>-200</td>\n",
              "      <td>-200</td>\n",
              "      <td>-200</td>\n",
              "      <td>-200</td>\n",
              "      <td>-200</td>\n",
              "      <td>-200</td>\n",
              "    </tr>\n",
              "    <tr>\n",
              "      <th>3</th>\n",
              "      <td>P01</td>\n",
              "      <td>-200</td>\n",
              "      <td>-200</td>\n",
              "      <td>-200</td>\n",
              "      <td>-200</td>\n",
              "      <td>-200</td>\n",
              "      <td>-77</td>\n",
              "      <td>-200</td>\n",
              "      <td>-200</td>\n",
              "      <td>-200</td>\n",
              "      <td>-200</td>\n",
              "      <td>-200</td>\n",
              "      <td>-200</td>\n",
              "      <td>-200</td>\n",
              "    </tr>\n",
              "    <tr>\n",
              "      <th>4</th>\n",
              "      <td>P01</td>\n",
              "      <td>-200</td>\n",
              "      <td>-200</td>\n",
              "      <td>-200</td>\n",
              "      <td>-200</td>\n",
              "      <td>-200</td>\n",
              "      <td>-77</td>\n",
              "      <td>-200</td>\n",
              "      <td>-200</td>\n",
              "      <td>-200</td>\n",
              "      <td>-200</td>\n",
              "      <td>-200</td>\n",
              "      <td>-200</td>\n",
              "      <td>-200</td>\n",
              "    </tr>\n",
              "  </tbody>\n",
              "</table>\n",
              "</div>"
            ],
            "text/plain": [
              "  location  b3001  b3002  b3003  b3004  ...  b3009  b3010  b3011  b3012  b3013\n",
              "0      O02   -200   -200   -200   -200  ...   -200   -200   -200   -200   -200\n",
              "1      P01   -200   -200   -200   -200  ...   -200   -200   -200   -200   -200\n",
              "2      P01   -200   -200   -200   -200  ...   -200   -200   -200   -200   -200\n",
              "3      P01   -200   -200   -200   -200  ...   -200   -200   -200   -200   -200\n",
              "4      P01   -200   -200   -200   -200  ...   -200   -200   -200   -200   -200\n",
              "\n",
              "[5 rows x 14 columns]"
            ]
          },
          "metadata": {
            "tags": []
          },
          "execution_count": 5
        }
      ]
    },
    {
      "cell_type": "code",
      "metadata": {
        "id": "skbjJCrv9u4w",
        "colab_type": "code",
        "colab": {}
      },
      "source": [
        "features = df.drop(['location'], axis = 1)"
      ],
      "execution_count": 9,
      "outputs": []
    },
    {
      "cell_type": "code",
      "metadata": {
        "id": "0nYX6ERX_BOJ",
        "colab_type": "code",
        "colab": {
          "base_uri": "https://localhost:8080/",
          "height": 204
        },
        "outputId": "77650038-caaa-4a92-f593-ff8d1ee9ced3"
      },
      "source": [
        "#  scaling the values \n",
        "\n",
        "features = features / 200\n",
        "features.head()"
      ],
      "execution_count": 11,
      "outputs": [
        {
          "output_type": "execute_result",
          "data": {
            "text/html": [
              "<div>\n",
              "<style scoped>\n",
              "    .dataframe tbody tr th:only-of-type {\n",
              "        vertical-align: middle;\n",
              "    }\n",
              "\n",
              "    .dataframe tbody tr th {\n",
              "        vertical-align: top;\n",
              "    }\n",
              "\n",
              "    .dataframe thead th {\n",
              "        text-align: right;\n",
              "    }\n",
              "</style>\n",
              "<table border=\"1\" class=\"dataframe\">\n",
              "  <thead>\n",
              "    <tr style=\"text-align: right;\">\n",
              "      <th></th>\n",
              "      <th>b3001</th>\n",
              "      <th>b3002</th>\n",
              "      <th>b3003</th>\n",
              "      <th>b3004</th>\n",
              "      <th>b3005</th>\n",
              "      <th>b3006</th>\n",
              "      <th>b3007</th>\n",
              "      <th>b3008</th>\n",
              "      <th>b3009</th>\n",
              "      <th>b3010</th>\n",
              "      <th>b3011</th>\n",
              "      <th>b3012</th>\n",
              "      <th>b3013</th>\n",
              "    </tr>\n",
              "  </thead>\n",
              "  <tbody>\n",
              "    <tr>\n",
              "      <th>0</th>\n",
              "      <td>-1.0</td>\n",
              "      <td>-1.0</td>\n",
              "      <td>-1.0</td>\n",
              "      <td>-1.0</td>\n",
              "      <td>-1.0</td>\n",
              "      <td>-0.390</td>\n",
              "      <td>-1.0</td>\n",
              "      <td>-1.0</td>\n",
              "      <td>-1.0</td>\n",
              "      <td>-1.0</td>\n",
              "      <td>-1.0</td>\n",
              "      <td>-1.0</td>\n",
              "      <td>-1.0</td>\n",
              "    </tr>\n",
              "    <tr>\n",
              "      <th>1</th>\n",
              "      <td>-1.0</td>\n",
              "      <td>-1.0</td>\n",
              "      <td>-1.0</td>\n",
              "      <td>-1.0</td>\n",
              "      <td>-1.0</td>\n",
              "      <td>-0.390</td>\n",
              "      <td>-1.0</td>\n",
              "      <td>-1.0</td>\n",
              "      <td>-1.0</td>\n",
              "      <td>-1.0</td>\n",
              "      <td>-1.0</td>\n",
              "      <td>-1.0</td>\n",
              "      <td>-1.0</td>\n",
              "    </tr>\n",
              "    <tr>\n",
              "      <th>2</th>\n",
              "      <td>-1.0</td>\n",
              "      <td>-1.0</td>\n",
              "      <td>-1.0</td>\n",
              "      <td>-1.0</td>\n",
              "      <td>-1.0</td>\n",
              "      <td>-0.385</td>\n",
              "      <td>-1.0</td>\n",
              "      <td>-1.0</td>\n",
              "      <td>-1.0</td>\n",
              "      <td>-1.0</td>\n",
              "      <td>-1.0</td>\n",
              "      <td>-1.0</td>\n",
              "      <td>-1.0</td>\n",
              "    </tr>\n",
              "    <tr>\n",
              "      <th>3</th>\n",
              "      <td>-1.0</td>\n",
              "      <td>-1.0</td>\n",
              "      <td>-1.0</td>\n",
              "      <td>-1.0</td>\n",
              "      <td>-1.0</td>\n",
              "      <td>-0.385</td>\n",
              "      <td>-1.0</td>\n",
              "      <td>-1.0</td>\n",
              "      <td>-1.0</td>\n",
              "      <td>-1.0</td>\n",
              "      <td>-1.0</td>\n",
              "      <td>-1.0</td>\n",
              "      <td>-1.0</td>\n",
              "    </tr>\n",
              "    <tr>\n",
              "      <th>4</th>\n",
              "      <td>-1.0</td>\n",
              "      <td>-1.0</td>\n",
              "      <td>-1.0</td>\n",
              "      <td>-1.0</td>\n",
              "      <td>-1.0</td>\n",
              "      <td>-0.385</td>\n",
              "      <td>-1.0</td>\n",
              "      <td>-1.0</td>\n",
              "      <td>-1.0</td>\n",
              "      <td>-1.0</td>\n",
              "      <td>-1.0</td>\n",
              "      <td>-1.0</td>\n",
              "      <td>-1.0</td>\n",
              "    </tr>\n",
              "  </tbody>\n",
              "</table>\n",
              "</div>"
            ],
            "text/plain": [
              "   b3001  b3002  b3003  b3004  b3005  ...  b3009  b3010  b3011  b3012  b3013\n",
              "0   -1.0   -1.0   -1.0   -1.0   -1.0  ...   -1.0   -1.0   -1.0   -1.0   -1.0\n",
              "1   -1.0   -1.0   -1.0   -1.0   -1.0  ...   -1.0   -1.0   -1.0   -1.0   -1.0\n",
              "2   -1.0   -1.0   -1.0   -1.0   -1.0  ...   -1.0   -1.0   -1.0   -1.0   -1.0\n",
              "3   -1.0   -1.0   -1.0   -1.0   -1.0  ...   -1.0   -1.0   -1.0   -1.0   -1.0\n",
              "4   -1.0   -1.0   -1.0   -1.0   -1.0  ...   -1.0   -1.0   -1.0   -1.0   -1.0\n",
              "\n",
              "[5 rows x 13 columns]"
            ]
          },
          "metadata": {
            "tags": []
          },
          "execution_count": 11
        }
      ]
    },
    {
      "cell_type": "code",
      "metadata": {
        "id": "xxtuZ5KH_Nh7",
        "colab_type": "code",
        "colab": {
          "base_uri": "https://localhost:8080/",
          "height": 68
        },
        "outputId": "74ad3fc2-e404-4b0a-d046-8d8368aa4cd8"
      },
      "source": [
        "kmeans = KMeans(\n",
        "    init=\"random\",\n",
        "    n_clusters=3,\n",
        "    n_init=10,\n",
        "    max_iter=300,\n",
        "    random_state=42\n",
        ")\n",
        "\n",
        "kmeans.fit(features)"
      ],
      "execution_count": 12,
      "outputs": [
        {
          "output_type": "execute_result",
          "data": {
            "text/plain": [
              "KMeans(algorithm='auto', copy_x=True, init='random', max_iter=300, n_clusters=3,\n",
              "       n_init=10, n_jobs=None, precompute_distances='auto', random_state=42,\n",
              "       tol=0.0001, verbose=0)"
            ]
          },
          "metadata": {
            "tags": []
          },
          "execution_count": 12
        }
      ]
    },
    {
      "cell_type": "code",
      "metadata": {
        "id": "S37DkLZc_sEf",
        "colab_type": "code",
        "colab": {
          "base_uri": "https://localhost:8080/",
          "height": 34
        },
        "outputId": "4f0e1225-cbee-420d-fb8f-8cad5daf1e45"
      },
      "source": [
        "kmeans.inertia_"
      ],
      "execution_count": 13,
      "outputs": [
        {
          "output_type": "execute_result",
          "data": {
            "text/plain": [
              "382.93535448692904"
            ]
          },
          "metadata": {
            "tags": []
          },
          "execution_count": 13
        }
      ]
    },
    {
      "cell_type": "code",
      "metadata": {
        "id": "51LH8YMi_vR3",
        "colab_type": "code",
        "colab": {
          "base_uri": "https://localhost:8080/",
          "height": 170
        },
        "outputId": "ef4c8e1d-14b9-4fc9-d97a-c2e07548cd7e"
      },
      "source": [
        "kmeans.cluster_centers_"
      ],
      "execution_count": 14,
      "outputs": [
        {
          "output_type": "execute_result",
          "data": {
            "text/plain": [
              "array([[-0.99583624, -0.9075784 , -0.81109756, -0.92630662, -0.88648084,\n",
              "        -0.38310105, -0.99520906, -0.9804878 , -1.        , -0.99585366,\n",
              "        -1.        , -1.        , -1.        ],\n",
              "       [-0.98113043, -0.99985507, -0.91269565, -0.67267391, -0.90833333,\n",
              "        -1.        , -0.9597029 , -0.95555072, -0.97062319, -0.97628261,\n",
              "        -0.97683333, -0.97153623, -0.95951449],\n",
              "       [-0.99723476, -0.36490971, -0.86623025, -0.98916479, -0.86978555,\n",
              "        -1.        , -0.99594808, -0.95318284, -1.        , -0.99863431,\n",
              "        -1.        , -1.        , -1.        ]])"
            ]
          },
          "metadata": {
            "tags": []
          },
          "execution_count": 14
        }
      ]
    },
    {
      "cell_type": "code",
      "metadata": {
        "id": "MeDPngE7_xq4",
        "colab_type": "code",
        "colab": {
          "base_uri": "https://localhost:8080/",
          "height": 34
        },
        "outputId": "1aeda591-e30b-43b7-a76c-69d98a217c0c"
      },
      "source": [
        "kmeans.n_iter_"
      ],
      "execution_count": 15,
      "outputs": [
        {
          "output_type": "execute_result",
          "data": {
            "text/plain": [
              "6"
            ]
          },
          "metadata": {
            "tags": []
          },
          "execution_count": 15
        }
      ]
    },
    {
      "cell_type": "code",
      "metadata": {
        "id": "eSiEW42E_ziY",
        "colab_type": "code",
        "colab": {
          "base_uri": "https://localhost:8080/",
          "height": 304
        },
        "outputId": "1c74cb64-ae7c-4af0-b98c-efafbae87a38"
      },
      "source": [
        "kmeans_kwargs = {\n",
        "    \"init\": \"random\",\n",
        "    \"n_init\": 10,\n",
        "    \"max_iter\": 300,\n",
        "    \"random_state\": 42,\n",
        "}\n",
        "\n",
        "# A list holds the SSE values for each k\n",
        "sse = []\n",
        "for k in range(1, 20):\n",
        "    kmeans = KMeans(n_clusters=k, **kmeans_kwargs)\n",
        "    kmeans.fit(features)\n",
        "    sse.append(kmeans.inertia_)\n",
        "\n",
        "\n",
        "plt.style.use(\"fivethirtyeight\")\n",
        "plt.plot(range(1, 20), sse)\n",
        "plt.xticks(range(1, 20))\n",
        "plt.xlabel(\"Number of Clusters\")\n",
        "plt.ylabel(\"SSE\")\n",
        "plt.show()\n"
      ],
      "execution_count": 19,
      "outputs": [
        {
          "output_type": "display_data",
          "data": {
            "image/png": "[encoded data removed]",
            "text/plain": [
              "<Figure size 432x288 with 1 Axes>"
            ]
          },
          "metadata": {
            "tags": []
          }
        }
      ]
    },
    {
      "cell_type": "code",
      "metadata": {
        "id": "uUwW32jO_9PY",
        "colab_type": "code",
        "colab": {
          "base_uri": "https://localhost:8080/",
          "height": 34
        },
        "outputId": "bd671584-b8ba-46be-a70b-26d76fe7bbaf"
      },
      "source": [
        "kl = KneeLocator(\n",
        "    range(1, 20), sse, curve=\"convex\", direction=\"decreasing\"\n",
        ")\n",
        "\n",
        "kl.elbow"
      ],
      "execution_count": 26,
      "outputs": [
        {
          "output_type": "execute_result",
          "data": {
            "text/plain": [
              "6"
            ]
          },
          "metadata": {
            "tags": []
          },
          "execution_count": 26
        }
      ]
    },
    {
      "cell_type": "code",
      "metadata": {
        "id": "vU5kp9c4Bb4T",
        "colab_type": "code",
        "colab": {
          "base_uri": "https://localhost:8080/",
          "height": 1000
        },
        "outputId": "b6aa2246-a928-4169-d457-72c4efa0b525"
      },
      "source": [
        "# A list holds the silhouette coefficients for each k\n",
        "silhouette_coefficients = []\n",
        "\n",
        "# Notice you start at 2 clusters for silhouette coefficient\n",
        "for k in range(2, 51):\n",
        "    kmeans = KMeans(n_clusters=k, **kmeans_kwargs)\n",
        "    kmeans.fit(features)\n",
        "    score = silhouette_score(features, kmeans.labels_)\n",
        "    silhouette_coefficients.append(score)\n",
        "\n",
        "plt.figure(figsize=(20,10))\n",
        "plt.style.use(\"fivethirtyeight\")\n",
        "plt.plot(range(2, 51), silhouette_coefficients)\n",
        "plt.xticks(range(2, 51))\n",
        "plt.xlabel(\"Number of Clusters\")\n",
        "plt.ylabel(\"Silhouette Coefficient\")\n",
        "plt.show()"
      ],
      "execution_count": 33,
      "outputs": [
        {
          "output_type": "stream",
          "text": [
            "/usr/local/lib/python3.6/dist-packages/ipykernel_launcher.py:7: ConvergenceWarning: Number of distinct clusters (20) found smaller than n_clusters (21). Possibly due to duplicate points in X.\n",
            "  import sys\n",
            "/usr/local/lib/python3.6/dist-packages/ipykernel_launcher.py:7: ConvergenceWarning: Number of distinct clusters (30) found smaller than n_clusters (31). Possibly due to duplicate points in X.\n",
            "  import sys\n",
            "/usr/local/lib/python3.6/dist-packages/ipykernel_launcher.py:7: ConvergenceWarning: Number of distinct clusters (32) found smaller than n_clusters (33). Possibly due to duplicate points in X.\n",
            "  import sys\n",
            "/usr/local/lib/python3.6/dist-packages/ipykernel_launcher.py:7: ConvergenceWarning: Number of distinct clusters (40) found smaller than n_clusters (42). Possibly due to duplicate points in X.\n",
            "  import sys\n",
            "/usr/local/lib/python3.6/dist-packages/ipykernel_launcher.py:7: ConvergenceWarning: Number of distinct clusters (41) found smaller than n_clusters (43). Possibly due to duplicate points in X.\n",
            "  import sys\n",
            "/usr/local/lib/python3.6/dist-packages/ipykernel_launcher.py:7: ConvergenceWarning: Number of distinct clusters (43) found smaller than n_clusters (45). Possibly due to duplicate points in X.\n",
            "  import sys\n",
            "/usr/local/lib/python3.6/dist-packages/ipykernel_launcher.py:7: ConvergenceWarning: Number of distinct clusters (43) found smaller than n_clusters (46). Possibly due to duplicate points in X.\n",
            "  import sys\n",
            "/usr/local/lib/python3.6/dist-packages/ipykernel_launcher.py:7: ConvergenceWarning: Number of distinct clusters (44) found smaller than n_clusters (47). Possibly due to duplicate points in X.\n",
            "  import sys\n",
            "/usr/local/lib/python3.6/dist-packages/ipykernel_launcher.py:7: ConvergenceWarning: Number of distinct clusters (45) found smaller than n_clusters (48). Possibly due to duplicate points in X.\n",
            "  import sys\n",
            "/usr/local/lib/python3.6/dist-packages/ipykernel_launcher.py:7: ConvergenceWarning: Number of distinct clusters (46) found smaller than n_clusters (49). Possibly due to duplicate points in X.\n",
            "  import sys\n",
            "/usr/local/lib/python3.6/dist-packages/ipykernel_launcher.py:7: ConvergenceWarning: Number of distinct clusters (47) found smaller than n_clusters (50). Possibly due to duplicate points in X.\n",
            "  import sys\n"
          ],
          "name": "stderr"
        },
        {
          "output_type": "display_data",
          "data": {
            "image/png": "[encoded data removed]",
            "text/plain": [
              "<Figure size 1440x720 with 1 Axes>"
            ]
          },
          "metadata": {
            "tags": []
          }
        }
      ]
    },
    {
      "cell_type": "code",
      "metadata": {
        "id": "9-GU990IBqVh",
        "colab_type": "code",
        "colab": {}
      },
      "source": [
        ""
      ],
      "execution_count": null,
      "outputs": []
    }
  ]
}